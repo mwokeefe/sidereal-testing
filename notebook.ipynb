{
 "cells": [
  {
   "cell_type": "markdown",
   "id": "crucial-giving",
   "metadata": {},
   "source": [
    "# Import libraries"
   ]
  },
  {
   "cell_type": "code",
   "execution_count": 3,
   "id": "requested-software",
   "metadata": {},
   "outputs": [],
   "source": [
    "import pandas as pd\n",
    "import ephem"
   ]
  },
  {
   "cell_type": "markdown",
   "id": "included-former",
   "metadata": {},
   "source": [
    "# Define helper functions"
   ]
  },
  {
   "cell_type": "code",
   "execution_count": 5,
   "id": "nearby-average",
   "metadata": {},
   "outputs": [],
   "source": [
    "def get_sidereal_time(date, obs):\n",
    "    \"\"\"\n",
    "    Function to convert DateTime \n",
    "    columns to sidereal time.\n",
    "    \"\"\"\n",
    "    obs.date = date\n",
    "    return str(obs.sidereal_time())"
   ]
  },
  {
   "cell_type": "markdown",
   "id": "attached-breakfast",
   "metadata": {},
   "source": [
    "# Run the code"
   ]
  },
  {
   "cell_type": "code",
   "execution_count": 6,
   "id": "administrative-bundle",
   "metadata": {},
   "outputs": [
    {
     "data": {
      "text/html": [
       "<div>\n",
       "<style scoped>\n",
       "    .dataframe tbody tr th:only-of-type {\n",
       "        vertical-align: middle;\n",
       "    }\n",
       "\n",
       "    .dataframe tbody tr th {\n",
       "        vertical-align: top;\n",
       "    }\n",
       "\n",
       "    .dataframe thead th {\n",
       "        text-align: right;\n",
       "    }\n",
       "</style>\n",
       "<table border=\"1\" class=\"dataframe\">\n",
       "  <thead>\n",
       "    <tr style=\"text-align: right;\">\n",
       "      <th></th>\n",
       "      <th>UnixTime</th>\n",
       "      <th>DateTime</th>\n",
       "      <th>J2000_ST</th>\n",
       "      <th>SCF_ST</th>\n",
       "    </tr>\n",
       "  </thead>\n",
       "  <tbody>\n",
       "    <tr>\n",
       "      <th>0</th>\n",
       "      <td>1.439692e+09</td>\n",
       "      <td>2015-05-29 02:44:51.955986023</td>\n",
       "      <td>0:21:45.70</td>\n",
       "      <td>19:34:21.71</td>\n",
       "    </tr>\n",
       "    <tr>\n",
       "      <th>1</th>\n",
       "      <td>1.439692e+09</td>\n",
       "      <td>2015-05-29 02:45:52.670033932</td>\n",
       "      <td>0:22:46.58</td>\n",
       "      <td>19:35:22.59</td>\n",
       "    </tr>\n",
       "    <tr>\n",
       "      <th>2</th>\n",
       "      <td>1.439692e+09</td>\n",
       "      <td>2015-05-29 02:46:53.295608759</td>\n",
       "      <td>0:23:47.37</td>\n",
       "      <td>19:36:23.38</td>\n",
       "    </tr>\n",
       "    <tr>\n",
       "      <th>3</th>\n",
       "      <td>1.439692e+09</td>\n",
       "      <td>2015-05-29 02:47:47.765300274</td>\n",
       "      <td>0:24:41.99</td>\n",
       "      <td>19:37:18.00</td>\n",
       "    </tr>\n",
       "    <tr>\n",
       "      <th>4</th>\n",
       "      <td>1.439692e+09</td>\n",
       "      <td>2015-05-29 02:48:42.459154367</td>\n",
       "      <td>0:25:36.83</td>\n",
       "      <td>19:38:12.84</td>\n",
       "    </tr>\n",
       "    <tr>\n",
       "      <th>5</th>\n",
       "      <td>1.439692e+09</td>\n",
       "      <td>2015-05-29 02:49:42.970921993</td>\n",
       "      <td>0:26:37.51</td>\n",
       "      <td>19:39:13.52</td>\n",
       "    </tr>\n",
       "    <tr>\n",
       "      <th>6</th>\n",
       "      <td>1.540353e+09</td>\n",
       "      <td>2018-08-06 04:21:40.460974932</td>\n",
       "      <td>6:31:55.98</td>\n",
       "      <td>1:44:32.24</td>\n",
       "    </tr>\n",
       "    <tr>\n",
       "      <th>7</th>\n",
       "      <td>1.540354e+09</td>\n",
       "      <td>2018-08-06 04:22:40.706206083</td>\n",
       "      <td>6:32:56.39</td>\n",
       "      <td>1:45:32.65</td>\n",
       "    </tr>\n",
       "    <tr>\n",
       "      <th>8</th>\n",
       "      <td>1.540354e+09</td>\n",
       "      <td>2018-08-06 04:23:40.964525223</td>\n",
       "      <td>6:33:56.81</td>\n",
       "      <td>1:46:33.07</td>\n",
       "    </tr>\n",
       "    <tr>\n",
       "      <th>9</th>\n",
       "      <td>1.540354e+09</td>\n",
       "      <td>2018-08-06 04:24:41.070778370</td>\n",
       "      <td>6:34:57.08</td>\n",
       "      <td>1:47:33.34</td>\n",
       "    </tr>\n",
       "    <tr>\n",
       "      <th>10</th>\n",
       "      <td>1.540354e+09</td>\n",
       "      <td>2018-08-06 04:25:21.885955811</td>\n",
       "      <td>6:35:38.01</td>\n",
       "      <td>1:48:14.27</td>\n",
       "    </tr>\n",
       "  </tbody>\n",
       "</table>\n",
       "</div>"
      ],
      "text/plain": [
       "        UnixTime                      DateTime    J2000_ST       SCF_ST\n",
       "0   1.439692e+09 2015-05-29 02:44:51.955986023  0:21:45.70  19:34:21.71\n",
       "1   1.439692e+09 2015-05-29 02:45:52.670033932  0:22:46.58  19:35:22.59\n",
       "2   1.439692e+09 2015-05-29 02:46:53.295608759  0:23:47.37  19:36:23.38\n",
       "3   1.439692e+09 2015-05-29 02:47:47.765300274  0:24:41.99  19:37:18.00\n",
       "4   1.439692e+09 2015-05-29 02:48:42.459154367  0:25:36.83  19:38:12.84\n",
       "5   1.439692e+09 2015-05-29 02:49:42.970921993  0:26:37.51  19:39:13.52\n",
       "6   1.540353e+09 2018-08-06 04:21:40.460974932  6:31:55.98   1:44:32.24\n",
       "7   1.540354e+09 2018-08-06 04:22:40.706206083  6:32:56.39   1:45:32.65\n",
       "8   1.540354e+09 2018-08-06 04:23:40.964525223  6:33:56.81   1:46:33.07\n",
       "9   1.540354e+09 2018-08-06 04:24:41.070778370  6:34:57.08   1:47:33.34\n",
       "10  1.540354e+09 2018-08-06 04:25:21.885955811  6:35:38.01   1:48:14.27"
      ]
     },
     "execution_count": 6,
     "metadata": {},
     "output_type": "execute_result"
    }
   ],
   "source": [
    "# Open the csv file\n",
    "df = pd.read_csv('data.csv')\n",
    "\n",
    "# Convert DateTime from str to datetime\n",
    "df['DateTime'] = pd.to_datetime(df['DateTime'])\n",
    "\n",
    "# Initialise our observer\n",
    "obs = ephem.Observer()\n",
    "obs.lon = '+6.05528'\n",
    "obs.lat = '46.23556'\n",
    "\n",
    "# Calculate sidereal time in J2000 frame    \n",
    "df['J2000_ST'] = df['DateTime'].apply(get_sidereal_time, args=[obs])\n",
    "\n",
    "# Shift DateTime by 1895.6 hours\n",
    "delta = pd.Timedelta(hours=1895.6)\n",
    "df['DateTime'] -= delta\n",
    "\n",
    "# Now calculate sidereal time in SCF \n",
    "df['SCF_ST'] = df['DateTime'].apply(get_sidereal_time, args=[obs])\n",
    "\n",
    "# Print our results\n",
    "df"
   ]
  }
 ],
 "metadata": {
  "kernelspec": {
   "display_name": "Python 3",
   "language": "python",
   "name": "python3"
  },
  "language_info": {
   "codemirror_mode": {
    "name": "ipython",
    "version": 3
   },
   "file_extension": ".py",
   "mimetype": "text/x-python",
   "name": "python",
   "nbconvert_exporter": "python",
   "pygments_lexer": "ipython3",
   "version": "3.6.9"
  }
 },
 "nbformat": 4,
 "nbformat_minor": 5
}
